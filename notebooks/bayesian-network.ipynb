{
 "cells": [
  {
   "cell_type": "markdown",
   "metadata": {},
   "source": [
    "# Fake data from Bayesian networks\n",
    "\n",
    "The package `fake_data_for_learning` features two main classes\n",
    "\n",
    "* `BayesianNodeRV`, a discrete random (or conditional random) variable suited for creating Bayesian networks\n",
    "* `FakeDataBayesianNetwork`, a Bayesian network consisting of instances of `BayesianNodeRV`s.\n"
   ]
  },
  {
   "cell_type": "code",
   "execution_count": 1,
   "metadata": {},
   "outputs": [],
   "source": [
    "import warnings\n",
    "\n",
    "import numpy as np\n",
    "import pandas as pd\n",
    "import sklearn\n",
    "\n",
    "import matplotlib.pyplot as plt\n",
    "from pandas.plotting import table\n",
    "\n",
    "from fake_data_for_learning.fake_data_for_learning import BayesianNodeRV\n",
    "from fake_data_for_learning.fake_data_for_learning import FakeDataBayesianNetwork\n",
    "from fake_data_for_learning.fake_data_for_learning import SampleValue\n",
    "\n",
    "warnings.filterwarnings(\"ignore\", module=\"networkx\")\n",
    "%matplotlib inline"
   ]
  },
  {
   "cell_type": "markdown",
   "metadata": {},
   "source": [
    "## Examples of Bayesian node random variables\n",
    "\n",
    "Bayesian node random variables either true random variables with distribution defined by a probability table `pt`, or a conditional random variable defined by a conditional probability table.\n",
    "\n",
    "### Example\n",
    "\n",
    "For example, let $X0$ be a binary random variable with probability table $[0.8, 0.2]$ and values / outcomes $\\{0,1\\}$."
   ]
  },
  {
   "cell_type": "code",
   "execution_count": 2,
   "metadata": {},
   "outputs": [
    {
     "name": "stdout",
     "output_type": "stream",
     "text": [
      "BayesianNodeRV(X0, parent_names=[])\n"
     ]
    }
   ],
   "source": [
    "pt_X0 = np.array([0.8, 0.2])\n",
    "rv0 = BayesianNodeRV('X0', pt_X0)\n",
    "print(rv0)"
   ]
  },
  {
   "cell_type": "markdown",
   "metadata": {},
   "source": [
    "In this case, $X0$ is a true random variable, and can be sampled without specifying parent values."
   ]
  },
  {
   "cell_type": "code",
   "execution_count": 3,
   "metadata": {},
   "outputs": [
    {
     "data": {
      "text/plain": [
       "array([0, 1, 0, 0, 0, 0, 0, 1, 0, 0])"
      ]
     },
     "execution_count": 3,
     "metadata": {},
     "output_type": "execute_result"
    }
   ],
   "source": [
    "rv0.rvs(size=10, seed=42)"
   ]
  },
  {
   "cell_type": "markdown",
   "metadata": {},
   "source": [
    "Next assume that $X1$ is a conditional random variable on $X0$, with conditional probability function $P(X1 | X0)$. For implementation reasons, we depart from the usual convention of conditional probability tables (e.g. https://en.wikipedia.org/wiki/Conditional_probability_table) and, for $X1$ taking $n$ values, and $X0$ taking $m$ values (in the above example, $m=2$), the conditional probability table is a matrix of shape $(m,n)$, where the *rows* are the marginal probability distributions of $X2$ for different values of $X1$.\n",
    "\n",
    "### Example\n",
    "\n",
    "We give an example of $X1 | X0$, where $X0$ is as above and $X1 | X0$ is also binary."
   ]
  },
  {
   "cell_type": "code",
   "execution_count": 4,
   "metadata": {},
   "outputs": [
    {
     "name": "stdout",
     "output_type": "stream",
     "text": [
      "BayesianNodeRV(X1, parent_names=['X0'])\n"
     ]
    }
   ],
   "source": [
    "# Let X0 be as above\n",
    "pt_X1cX0 = np.array([\n",
    "        [0.2, 0.8],\n",
    "        [0.7, 0.3],\n",
    "])\n",
    "\n",
    "rv1c0 = BayesianNodeRV('X1', pt_X1cX0, parent_names=['X0'])\n",
    "print(rv1c0)"
   ]
  },
  {
   "cell_type": "markdown",
   "metadata": {},
   "source": [
    "To sample from a conditional random variable, the marginal value must be provided. We do this using a helper class `SampleValue`, whose utility become apparent in the case of random variables that take on non-default values, e.g. `['female', 'male']`; see below."
   ]
  },
  {
   "cell_type": "code",
   "execution_count": 5,
   "metadata": {},
   "outputs": [
    {
     "data": {
      "text/plain": [
       "array([0.7, 0.3])"
      ]
     },
     "execution_count": 5,
     "metadata": {},
     "output_type": "execute_result"
    }
   ],
   "source": [
    "parent_values={'X0': SampleValue(1)}\n",
    "# Get probability table when X0=1\n",
    "rv1c0.get_probability_table(parent_values)"
   ]
  },
  {
   "cell_type": "code",
   "execution_count": 6,
   "metadata": {},
   "outputs": [
    {
     "data": {
      "text/plain": [
       "array([0, 1, 1, 0, 0, 0, 0, 1, 0, 1])"
      ]
     },
     "execution_count": 6,
     "metadata": {},
     "output_type": "execute_result"
    }
   ],
   "source": [
    "rv1c0.rvs(size=10, parent_values={'X0': SampleValue(1)}, seed=42)"
   ]
  },
  {
   "cell_type": "markdown",
   "metadata": {},
   "source": [
    "If the random variable take on non-default (i.e. non-natural number) values, then these values must be mapped to the default of values by a label encoder."
   ]
  },
  {
   "cell_type": "code",
   "execution_count": 7,
   "metadata": {},
   "outputs": [
    {
     "name": "stdout",
     "output_type": "stream",
     "text": [
      "BayesianNodeRV(Gender, parent_names=[])\n"
     ]
    }
   ],
   "source": [
    "Gender = BayesianNodeRV('Gender', np.array([0.55, 0.45]), values=['female', 'male'])\n",
    "print(Gender)"
   ]
  },
  {
   "cell_type": "code",
   "execution_count": 8,
   "metadata": {},
   "outputs": [
    {
     "data": {
      "text/plain": [
       "array([0, 1, 1])"
      ]
     },
     "execution_count": 8,
     "metadata": {},
     "output_type": "execute_result"
    }
   ],
   "source": [
    "Gender.label_encoder.transform(['female', 'male', 'male'])"
   ]
  },
  {
   "cell_type": "markdown",
   "metadata": {},
   "source": [
    "To calculate the probability mass function or sample from a conditional random variable $(Y1 \\, |\\, \\textrm{gender})$, we need to pass in values of `Gender` with a label encoder, which maps the value (`male` or `female`) to the relevant row of the conditional probability table `pt_X1cGender`. To pass sampled parent values, we use the class `SampleValue`."
   ]
  },
  {
   "cell_type": "code",
   "execution_count": 9,
   "metadata": {},
   "outputs": [
    {
     "data": {
      "text/plain": [
       "0.4"
      ]
     },
     "execution_count": 9,
     "metadata": {},
     "output_type": "execute_result"
    }
   ],
   "source": [
    "pt_YcGender = np.array([\n",
    "    [0.9, 0.1],\n",
    "    [0.4, 0.6],\n",
    "])\n",
    "Y = BayesianNodeRV('Y1', pt_YcGender, parent_names=['Gender'])\n",
    "# Evaluate probability mass function for given parent values\n",
    "Y.pmf(0, parent_values={'Gender': SampleValue('male', label_encoder=Gender.label_encoder)})"
   ]
  },
  {
   "cell_type": "code",
   "execution_count": 10,
   "metadata": {},
   "outputs": [
    {
     "data": {
      "text/plain": [
       "array([0])"
      ]
     },
     "execution_count": 10,
     "metadata": {},
     "output_type": "execute_result"
    }
   ],
   "source": [
    "# Sample\n",
    "Y.rvs({'Gender': SampleValue('male', label_encoder=Gender.label_encoder)}, seed=42)"
   ]
  },
  {
   "cell_type": "markdown",
   "metadata": {},
   "source": [
    "Note that the scikit-learn label encoder sorts values (aka classes) into lexicographic order, which mean that the definition of the conditional probability tables must also respect this ordering. Entering non-default values not in lexicographic order throws a value error."
   ]
  },
  {
   "cell_type": "code",
   "execution_count": 11,
   "metadata": {},
   "outputs": [
    {
     "name": "stdout",
     "output_type": "stream",
     "text": [
      "Values must be unique and in lexicographic order\n"
     ]
    }
   ],
   "source": [
    "try:\n",
    "    BayesianNodeRV('gender', np.array([0.45, 0.55]), values=['male', 'female'])\n",
    "except ValueError as err:\n",
    "    print(err)"
   ]
  },
  {
   "cell_type": "markdown",
   "metadata": {},
   "source": [
    "## Examples of fake data Bayesian networks\n",
    "\n",
    "Bayesian random variables with compatible parent names and (conditional) probability tables can be combined into a Bayesian network."
   ]
  },
  {
   "cell_type": "code",
   "execution_count": 12,
   "metadata": {},
   "outputs": [
    {
     "name": "stdout",
     "output_type": "stream",
     "text": [
      "FakeDataBayesianNetwork with node_names=['X0', 'X1'])\n"
     ]
    }
   ],
   "source": [
    "bn = FakeDataBayesianNetwork(rv0, rv1c0)\n",
    "print(bn)"
   ]
  },
  {
   "cell_type": "markdown",
   "metadata": {},
   "source": [
    "Part of class instantiation involves checking compatability of the nodes of the network, including the sizes of the respective probability tables."
   ]
  },
  {
   "cell_type": "code",
   "execution_count": 13,
   "metadata": {},
   "outputs": [
    {
     "data": {
      "text/plain": [
       "True"
      ]
     },
     "execution_count": 13,
     "metadata": {},
     "output_type": "execute_result"
    }
   ],
   "source": [
    "bn.get_node('X1').cpt.shape == bn.get_expected_cpt_dims([1], len(rv0.values))"
   ]
  },
  {
   "cell_type": "markdown",
   "metadata": {},
   "source": [
    "### Visualizing the Bayesian network\n",
    "\n",
    "We use the visualization features of [NetworkX](https://networkx.github.io/) to visualize the Bayesian network."
   ]
  },
  {
   "cell_type": "code",
   "execution_count": 14,
   "metadata": {},
   "outputs": [
    {
     "data": {
      "text/plain": [
       "['X0', 'X1']"
      ]
     },
     "execution_count": 14,
     "metadata": {},
     "output_type": "execute_result"
    }
   ],
   "source": [
    "bn.node_names"
   ]
  },
  {
   "cell_type": "code",
   "execution_count": 15,
   "metadata": {},
   "outputs": [
    {
     "data": {
      "image/png": "[encoded data removed]",
      "text/plain": [
       "<Figure size 432x288 with 1 Axes>"
      ]
     },
     "metadata": {},
     "output_type": "display_data"
    }
   ],
   "source": [
    "# Visualize the graph\n",
    "bn.draw_graph()"
   ]
  },
  {
   "cell_type": "markdown",
   "metadata": {},
   "source": [
    "### Sampling from the Bayesian network\n",
    "\n",
    "Sampling from the Bayesian network is done via ancestral sampling."
   ]
  },
  {
   "cell_type": "code",
   "execution_count": 16,
   "metadata": {},
   "outputs": [
    {
     "data": {
      "text/html": [
       "<div>\n",
       "<style scoped>\n",
       "    .dataframe tbody tr th:only-of-type {\n",
       "        vertical-align: middle;\n",
       "    }\n",
       "\n",
       "    .dataframe tbody tr th {\n",
       "        vertical-align: top;\n",
       "    }\n",
       "\n",
       "    .dataframe thead th {\n",
       "        text-align: right;\n",
       "    }\n",
       "</style>\n",
       "<table border=\"1\" class=\"dataframe\">\n",
       "  <thead>\n",
       "    <tr style=\"text-align: right;\">\n",
       "      <th></th>\n",
       "      <th>X0</th>\n",
       "      <th>X1</th>\n",
       "    </tr>\n",
       "  </thead>\n",
       "  <tbody>\n",
       "    <tr>\n",
       "      <th>0</th>\n",
       "      <td>0</td>\n",
       "      <td>1</td>\n",
       "    </tr>\n",
       "    <tr>\n",
       "      <th>1</th>\n",
       "      <td>0</td>\n",
       "      <td>1</td>\n",
       "    </tr>\n",
       "    <tr>\n",
       "      <th>2</th>\n",
       "      <td>0</td>\n",
       "      <td>0</td>\n",
       "    </tr>\n",
       "    <tr>\n",
       "      <th>3</th>\n",
       "      <td>0</td>\n",
       "      <td>1</td>\n",
       "    </tr>\n",
       "    <tr>\n",
       "      <th>4</th>\n",
       "      <td>0</td>\n",
       "      <td>1</td>\n",
       "    </tr>\n",
       "  </tbody>\n",
       "</table>\n",
       "</div>"
      ],
      "text/plain": [
       "   X0  X1\n",
       "0   0   1\n",
       "1   0   1\n",
       "2   0   0\n",
       "3   0   1\n",
       "4   0   1"
      ]
     },
     "execution_count": 16,
     "metadata": {},
     "output_type": "execute_result"
    }
   ],
   "source": [
    "# Sample\n",
    "bn.rvs(size=5)"
   ]
  },
  {
   "cell_type": "markdown",
   "metadata": {},
   "source": [
    "### Example with three nodes\n",
    "\n",
    "$X = (X0, X1, X2)$, where $X$ admits the graph\n",
    "\n",
    "G: X0 -> X2 <- X1"
   ]
  },
  {
   "cell_type": "code",
   "execution_count": 17,
   "metadata": {},
   "outputs": [
    {
     "data": {
      "image/png": "[encoded data removed]",
      "text/plain": [
       "<Figure size 432x288 with 1 Axes>"
      ]
     },
     "metadata": {},
     "output_type": "display_data"
    }
   ],
   "source": [
    "# X1\n",
    "pt_X1 = np.array([0.5, 0.3, 0.2])\n",
    "rv1 = BayesianNodeRV('X1', pt_X1)\n",
    "\n",
    "# X2 | X0, X1\n",
    "pt_X2cX0X1 = np.array([\n",
    "    [\n",
    "        [0., 1.0],\n",
    "        [0.2, 0.8],\n",
    "        [0.1, 0.9]\n",
    "    ],\n",
    "    [\n",
    "        [0.5, 0.5],\n",
    "        [0.3, 0.7],\n",
    "        [0.9, 0.1]\n",
    "    ],\n",
    "\n",
    "])\n",
    "\n",
    "rv2c01 = BayesianNodeRV('X2', pt_X2cX0X1, parent_names=['X0', 'X1'])\n",
    "\n",
    "bn2c01 = FakeDataBayesianNetwork(rv0, rv1, rv2c01)\n",
    "bn2c01.draw_graph()"
   ]
  },
  {
   "cell_type": "code",
   "execution_count": 18,
   "metadata": {},
   "outputs": [
    {
     "data": {
      "text/html": [
       "<div>\n",
       "<style scoped>\n",
       "    .dataframe tbody tr th:only-of-type {\n",
       "        vertical-align: middle;\n",
       "    }\n",
       "\n",
       "    .dataframe tbody tr th {\n",
       "        vertical-align: top;\n",
       "    }\n",
       "\n",
       "    .dataframe thead th {\n",
       "        text-align: right;\n",
       "    }\n",
       "</style>\n",
       "<table border=\"1\" class=\"dataframe\">\n",
       "  <thead>\n",
       "    <tr style=\"text-align: right;\">\n",
       "      <th></th>\n",
       "      <th>X0</th>\n",
       "      <th>X1</th>\n",
       "      <th>X2</th>\n",
       "    </tr>\n",
       "  </thead>\n",
       "  <tbody>\n",
       "    <tr>\n",
       "      <th>0</th>\n",
       "      <td>1</td>\n",
       "      <td>2</td>\n",
       "      <td>0</td>\n",
       "    </tr>\n",
       "    <tr>\n",
       "      <th>1</th>\n",
       "      <td>0</td>\n",
       "      <td>1</td>\n",
       "      <td>1</td>\n",
       "    </tr>\n",
       "    <tr>\n",
       "      <th>2</th>\n",
       "      <td>0</td>\n",
       "      <td>2</td>\n",
       "      <td>1</td>\n",
       "    </tr>\n",
       "    <tr>\n",
       "      <th>3</th>\n",
       "      <td>0</td>\n",
       "      <td>0</td>\n",
       "      <td>1</td>\n",
       "    </tr>\n",
       "    <tr>\n",
       "      <th>4</th>\n",
       "      <td>0</td>\n",
       "      <td>0</td>\n",
       "      <td>1</td>\n",
       "    </tr>\n",
       "  </tbody>\n",
       "</table>\n",
       "</div>"
      ],
      "text/plain": [
       "   X0  X1  X2\n",
       "0   1   2   0\n",
       "1   0   1   1\n",
       "2   0   2   1\n",
       "3   0   0   1\n",
       "4   0   0   1"
      ]
     },
     "execution_count": 18,
     "metadata": {},
     "output_type": "execute_result"
    }
   ],
   "source": [
    "# Sample\n",
    "bn2c01.rvs(size=5)"
   ]
  },
  {
   "cell_type": "markdown",
   "metadata": {},
   "source": [
    "## Bayesian network with non-default (non-integer) outcome values"
   ]
  },
  {
   "cell_type": "code",
   "execution_count": 19,
   "metadata": {},
   "outputs": [
    {
     "data": {
      "image/png": "[encoded data removed]",
      "text/plain": [
       "<Figure size 360x360 with 1 Axes>"
      ]
     },
     "metadata": {},
     "output_type": "display_data"
    }
   ],
   "source": [
    "pt_YcGender = np.array([\n",
    "    [0.9, 0.1],\n",
    "    [0.4, 0.6],\n",
    "])\n",
    "Y = BayesianNodeRV('Y', pt_YcGender, parent_names=['Gender'])\n",
    "bn = FakeDataBayesianNetwork(Gender, Y)\n",
    "\n",
    "fig = plt.figure(figsize=(5,5))\n",
    "ax = plt.subplot(111)\n",
    "\n",
    "G = bn.get_graph()\n",
    "bn.draw_graph()\n",
    "\n",
    "plt.tight_layout()\n",
    "plt.savefig(\"../docs/graphics/graph.png\", format=\"PNG\")"
   ]
  },
  {
   "cell_type": "markdown",
   "metadata": {},
   "source": [
    "Generate samples and calculate probability mass function for each sample"
   ]
  },
  {
   "cell_type": "code",
   "execution_count": 20,
   "metadata": {},
   "outputs": [
    {
     "data": {
      "text/html": [
       "<div>\n",
       "<style scoped>\n",
       "    .dataframe tbody tr th:only-of-type {\n",
       "        vertical-align: middle;\n",
       "    }\n",
       "\n",
       "    .dataframe tbody tr th {\n",
       "        vertical-align: top;\n",
       "    }\n",
       "\n",
       "    .dataframe thead th {\n",
       "        text-align: right;\n",
       "    }\n",
       "</style>\n",
       "<table border=\"1\" class=\"dataframe\">\n",
       "  <thead>\n",
       "    <tr style=\"text-align: right;\">\n",
       "      <th></th>\n",
       "      <th>Gender</th>\n",
       "      <th>Y</th>\n",
       "      <th>pmf</th>\n",
       "    </tr>\n",
       "  </thead>\n",
       "  <tbody>\n",
       "    <tr>\n",
       "      <th>0</th>\n",
       "      <td>female</td>\n",
       "      <td>0</td>\n",
       "      <td>0.495</td>\n",
       "    </tr>\n",
       "    <tr>\n",
       "      <th>1</th>\n",
       "      <td>female</td>\n",
       "      <td>0</td>\n",
       "      <td>0.495</td>\n",
       "    </tr>\n",
       "    <tr>\n",
       "      <th>2</th>\n",
       "      <td>male</td>\n",
       "      <td>1</td>\n",
       "      <td>0.270</td>\n",
       "    </tr>\n",
       "    <tr>\n",
       "      <th>3</th>\n",
       "      <td>female</td>\n",
       "      <td>0</td>\n",
       "      <td>0.495</td>\n",
       "    </tr>\n",
       "    <tr>\n",
       "      <th>4</th>\n",
       "      <td>female</td>\n",
       "      <td>0</td>\n",
       "      <td>0.495</td>\n",
       "    </tr>\n",
       "  </tbody>\n",
       "</table>\n",
       "</div>"
      ],
      "text/plain": [
       "   Gender  Y    pmf\n",
       "0  female  0  0.495\n",
       "1  female  0  0.495\n",
       "2    male  1  0.270\n",
       "3  female  0  0.495\n",
       "4  female  0  0.495"
      ]
     },
     "execution_count": 20,
     "metadata": {},
     "output_type": "execute_result"
    }
   ],
   "source": [
    "samples = bn.rvs(size=5)\n",
    "# Rounding of pmf is only for display purposes\n",
    "samples['pmf'] = samples[['Gender', 'Y']].apply(lambda sample: round(bn.pmf(sample), 3), axis=1)\n",
    "samples"
   ]
  },
  {
   "cell_type": "code",
   "execution_count": 21,
   "metadata": {},
   "outputs": [
    {
     "data": {
      "image/png": "[encoded data removed]",
      "text/plain": [
       "<Figure size 360x180 with 1 Axes>"
      ]
     },
     "metadata": {
      "needs_background": "light"
     },
     "output_type": "display_data"
    }
   ],
   "source": [
    "# For README\n",
    "fig = plt.figure(figsize=(5, 2.5))\n",
    "ax = plt.subplot(111, frame_on=False)\n",
    "ax.xaxis.set_visible(False) \n",
    "ax.yaxis.set_visible(False)\n",
    "table(ax, samples, loc='center')\n",
    "plt.tight_layout()\n",
    "plt.savefig('../docs/graphics/network_sample.png')"
   ]
  }
 ],
 "metadata": {
  "kernelspec": {
   "display_name": "Python 3",
   "language": "python",
   "name": "python3"
  },
  "language_info": {
   "codemirror_mode": {
    "name": "ipython",
    "version": 3
   },
   "file_extension": ".py",
   "mimetype": "text/x-python",
   "name": "python",
   "nbconvert_exporter": "python",
   "pygments_lexer": "ipython3",
   "version": "3.7.6"
  }
 },
 "nbformat": 4,
 "nbformat_minor": 2
}
