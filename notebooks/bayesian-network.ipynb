{
 "cells": [
  {
   "cell_type": "markdown",
   "metadata": {},
   "source": [
    "# Fake data from Bayesian networks\n",
    "\n",
    "The package `fake_data_for_learning` features two main classes\n",
    "\n",
    "* `BayesianNodeRV`, a discrete random (or conditional random) variable suited for creating Bayesian networks\n",
    "* `FakeDataBayesianNetwork`, a Bayesian network consisting of instances of `BayesianNodeRV`s.\n"
   ]
  },
  {
   "cell_type": "code",
   "execution_count": 1,
   "metadata": {},
   "outputs": [],
   "source": [
    "import warnings\n",
    "\n",
    "import numpy as np\n",
    "import pandas as pd\n",
    "import sklearn\n",
    "\n",
    "from fake_data_for_learning import BayesianNodeRV as BNRV\n",
    "from fake_data_for_learning import FakeDataBayesianNetwork as FDBN\n",
    "from fake_data_for_learning import SampleValue\n",
    "\n",
    "warnings.filterwarnings(\"ignore\", module=\"networkx\")\n",
    "%matplotlib inline"
   ]
  },
  {
   "cell_type": "markdown",
   "metadata": {},
   "source": [
    "## Examples of Bayesian node random variables\n",
    "\n",
    "Bayesian node random variables either true random variables with distribution defined by a probability table `pt`, or a conditional random variable defined by a conditional probability table.\n",
    "\n",
    "### Example\n",
    "\n",
    "For example, let $X0$ be a binary random variable with probability table $[0.8, 0.2]$ and values / outcomes $\\{0,1\\}$."
   ]
  },
  {
   "cell_type": "code",
   "execution_count": 2,
   "metadata": {},
   "outputs": [
    {
     "name": "stdout",
     "output_type": "stream",
     "text": [
      "BayesianNodeRV(X0, parent_names=None)\n"
     ]
    }
   ],
   "source": [
    "pt_X0 = np.array([0.8, 0.2])\n",
    "rv0 = BNRV('X0', pt_X0)\n",
    "print(rv0)"
   ]
  },
  {
   "cell_type": "markdown",
   "metadata": {},
   "source": [
    "In this case, $X0$ is a true random variable, and can be sampled without specifying parent values."
   ]
  },
  {
   "cell_type": "code",
   "execution_count": 3,
   "metadata": {},
   "outputs": [
    {
     "data": {
      "text/plain": [
       "array([0, 1, 0, 0, 0, 0, 1, 0, 0, 0])"
      ]
     },
     "execution_count": 3,
     "metadata": {},
     "output_type": "execute_result"
    }
   ],
   "source": [
    "rv0.rvs(size=10)"
   ]
  },
  {
   "cell_type": "markdown",
   "metadata": {},
   "source": [
    "Next assume that $X1$ is a conditional random variable on $X0$, with conditional probability function $P(X1 | X0)$. For implementation reasons, we depart from the usual convention of conditional probability tables (e.g. https://en.wikipedia.org/wiki/Conditional_probability_table) and, for $X1$ taking $n$ values, and $X0$ taking $m$ values (in the above example, $m=2$), the conditional probability table is a matrix of shape $(m,n)$, where the *rows* are the marginal probability distributions of $X2$ for different values of $X1$.\n",
    "\n",
    "### Example\n",
    "\n",
    "We give an example of $X1 | X0$, where $X0$ is as above and $X1 | X0$ is also binary."
   ]
  },
  {
   "cell_type": "code",
   "execution_count": 4,
   "metadata": {},
   "outputs": [
    {
     "name": "stdout",
     "output_type": "stream",
     "text": [
      "BayesianNodeRV(X1, parent_names=['X0'])\n"
     ]
    }
   ],
   "source": [
    "# Let X0 be as above\n",
    "pt_X1cX0 = np.array([\n",
    "        [0.2, 0.8],\n",
    "        [0.7, 0.3],\n",
    "])\n",
    "\n",
    "rv1c0 = BNRV('X1', pt_X1cX0, parent_names=['X0'])\n",
    "print(rv1c0)"
   ]
  },
  {
   "cell_type": "markdown",
   "metadata": {},
   "source": [
    "To sample from a conditional random variable, the marginal value must be provided. We do this using a helper class `SampleValue`, whose utility become apparent in the case of random variables that take on non-default values, e.g. `['female', 'male']`; see below."
   ]
  },
  {
   "cell_type": "code",
   "execution_count": 5,
   "metadata": {},
   "outputs": [
    {
     "data": {
      "text/plain": [
       "array([0.7, 0.3])"
      ]
     },
     "execution_count": 5,
     "metadata": {},
     "output_type": "execute_result"
    }
   ],
   "source": [
    "parent_values={'X0': SampleValue(1)}\n",
    "# Get probability table when X0=1\n",
    "rv1c0.get_pt(parent_values)"
   ]
  },
  {
   "cell_type": "code",
   "execution_count": 6,
   "metadata": {},
   "outputs": [
    {
     "data": {
      "text/plain": [
       "array([0, 0, 0, 1, 0, 0, 0, 0, 0, 0])"
      ]
     },
     "execution_count": 6,
     "metadata": {},
     "output_type": "execute_result"
    }
   ],
   "source": [
    "rv1c0.rvs(size=10, parent_values={'X0': SampleValue(1)})"
   ]
  },
  {
   "cell_type": "markdown",
   "metadata": {},
   "source": [
    "If the random variable take on non-default (i.e. non-natural number) values, then these values must be mapped to the default of values by a label encoder."
   ]
  },
  {
   "cell_type": "code",
   "execution_count": 7,
   "metadata": {},
   "outputs": [
    {
     "name": "stdout",
     "output_type": "stream",
     "text": [
      "BayesianNodeRV(gender, parent_names=None)\n"
     ]
    }
   ],
   "source": [
    "Gender = BNRV('gender', np.array([0.55, 0.45]), values=['female', 'male'])\n",
    "print(Gender)"
   ]
  },
  {
   "cell_type": "code",
   "execution_count": 8,
   "metadata": {},
   "outputs": [
    {
     "data": {
      "text/plain": [
       "array([0, 1, 1])"
      ]
     },
     "execution_count": 8,
     "metadata": {},
     "output_type": "execute_result"
    }
   ],
   "source": [
    "Gender.label_encoder.transform(['female', 'male', 'male'])"
   ]
  },
  {
   "cell_type": "markdown",
   "metadata": {},
   "source": [
    "To sample from a conditional random variable $(Y1 \\, |\\, \\textrm{gender})$, we need to pass in values of `Gender` with a label encoder, which maps the value (`male` or `female`) to the row of the conditional probability table `pt_X1cGender` to use for sampling. To pass sampled parent values, we use the class `SampleValue`."
   ]
  },
  {
   "cell_type": "code",
   "execution_count": 9,
   "metadata": {},
   "outputs": [
    {
     "data": {
      "text/plain": [
       "array([1])"
      ]
     },
     "execution_count": 9,
     "metadata": {},
     "output_type": "execute_result"
    }
   ],
   "source": [
    "pt_X1cGender = np.array([\n",
    "    [0.9, 0.1],\n",
    "    [0.4, 0.6],\n",
    "])\n",
    "Y1 = BNRV('Y1', pt_X1cGender, parent_names=['gender'])\n",
    "Y1.rvs({'gender': SampleValue('male', label_encoder=Gender.label_encoder)})"
   ]
  },
  {
   "cell_type": "markdown",
   "metadata": {},
   "source": [
    "Note that the scikit-learn label encoder sorts values (aka classes) into lexicographic order, which mean that the definition of the conditional probability tables must also respect this ordering. Entering non-default values not in lexicographic order throws a value error."
   ]
  },
  {
   "cell_type": "code",
   "execution_count": 10,
   "metadata": {},
   "outputs": [
    {
     "name": "stdout",
     "output_type": "stream",
     "text": [
      "Values must be unique and in lexicographic order\n"
     ]
    }
   ],
   "source": [
    "try:\n",
    "    BNRV('gender', np.array([0.45, 0.55]), values=['male', 'female'])\n",
    "except ValueError as err:\n",
    "    print(err)"
   ]
  },
  {
   "cell_type": "markdown",
   "metadata": {},
   "source": [
    "## Examples of fake data Bayesian networks\n",
    "\n",
    "Bayesian random variables with compatible parent names and (conditional) probability tables can be combined into a Bayesian network."
   ]
  },
  {
   "cell_type": "code",
   "execution_count": 11,
   "metadata": {},
   "outputs": [
    {
     "name": "stdout",
     "output_type": "stream",
     "text": [
      "FakeDataBayesianNetwork with node_names=['X0', 'X1'])\n"
     ]
    }
   ],
   "source": [
    "bn = FDBN(rv0, rv1c0)\n",
    "print(bn)"
   ]
  },
  {
   "cell_type": "markdown",
   "metadata": {},
   "source": [
    "Part of class instantiation involves checking compatability of the nodes of the network, including the sizes of the respective probability tables."
   ]
  },
  {
   "cell_type": "code",
   "execution_count": 12,
   "metadata": {},
   "outputs": [
    {
     "data": {
      "text/plain": [
       "True"
      ]
     },
     "execution_count": 12,
     "metadata": {},
     "output_type": "execute_result"
    }
   ],
   "source": [
    "bn.get_node('X1').cpt.shape == bn.get_expected_cpt_dims([1], len(rv0.values))"
   ]
  },
  {
   "cell_type": "markdown",
   "metadata": {},
   "source": [
    "### Visualizing the Bayesian network\n",
    "\n",
    "We use the visualization features of [NetworkX](https://networkx.github.io/) to visualize the Bayesian network."
   ]
  },
  {
   "cell_type": "code",
   "execution_count": 13,
   "metadata": {},
   "outputs": [
    {
     "data": {
      "text/plain": [
       "['X0', 'X1']"
      ]
     },
     "execution_count": 13,
     "metadata": {},
     "output_type": "execute_result"
    }
   ],
   "source": [
    "bn.node_names"
   ]
  },
  {
   "cell_type": "code",
   "execution_count": 14,
   "metadata": {},
   "outputs": [
    {
     "data": {
      "image/png": "[encoded data removed]",
      "text/plain": [
       "<Figure size 432x288 with 1 Axes>"
      ]
     },
     "metadata": {},
     "output_type": "display_data"
    }
   ],
   "source": [
    "# Visualize the graph\n",
    "bn.draw_graph()"
   ]
  },
  {
   "cell_type": "markdown",
   "metadata": {},
   "source": [
    "### Sampling from the graph\n",
    "\n",
    "To generate a random sample for $X$, we define the adjacency graph of $G$ and use this to first sample from the Eve-nodes (no parents), and then Eve's immediate descendents, and so on. "
   ]
  },
  {
   "cell_type": "code",
   "execution_count": 15,
   "metadata": {},
   "outputs": [
    {
     "data": {
      "text/html": [
       "<div>\n",
       "<style scoped>\n",
       "    .dataframe tbody tr th:only-of-type {\n",
       "        vertical-align: middle;\n",
       "    }\n",
       "\n",
       "    .dataframe tbody tr th {\n",
       "        vertical-align: top;\n",
       "    }\n",
       "\n",
       "    .dataframe thead th {\n",
       "        text-align: right;\n",
       "    }\n",
       "</style>\n",
       "<table border=\"1\" class=\"dataframe\">\n",
       "  <thead>\n",
       "    <tr style=\"text-align: right;\">\n",
       "      <th></th>\n",
       "      <th>X0</th>\n",
       "      <th>X1</th>\n",
       "    </tr>\n",
       "  </thead>\n",
       "  <tbody>\n",
       "    <tr>\n",
       "      <th>0</th>\n",
       "      <td>0</td>\n",
       "      <td>1</td>\n",
       "    </tr>\n",
       "    <tr>\n",
       "      <th>1</th>\n",
       "      <td>0</td>\n",
       "      <td>1</td>\n",
       "    </tr>\n",
       "    <tr>\n",
       "      <th>2</th>\n",
       "      <td>0</td>\n",
       "      <td>1</td>\n",
       "    </tr>\n",
       "    <tr>\n",
       "      <th>3</th>\n",
       "      <td>1</td>\n",
       "      <td>1</td>\n",
       "    </tr>\n",
       "    <tr>\n",
       "      <th>4</th>\n",
       "      <td>0</td>\n",
       "      <td>0</td>\n",
       "    </tr>\n",
       "  </tbody>\n",
       "</table>\n",
       "</div>"
      ],
      "text/plain": [
       "   X0  X1\n",
       "0   0   1\n",
       "1   0   1\n",
       "2   0   1\n",
       "3   1   1\n",
       "4   0   0"
      ]
     },
     "execution_count": 15,
     "metadata": {},
     "output_type": "execute_result"
    }
   ],
   "source": [
    "# Sample\n",
    "bn.rvs(size=5)"
   ]
  },
  {
   "cell_type": "markdown",
   "metadata": {},
   "source": [
    "## Example\n",
    "\n",
    "$X = (X0, X1, X2)$, where $X$ admits the graph\n",
    "\n",
    "G: X0 -> X2 <- X1"
   ]
  },
  {
   "cell_type": "code",
   "execution_count": 16,
   "metadata": {},
   "outputs": [
    {
     "data": {
      "image/png": "[encoded data removed]",
      "text/plain": [
       "<Figure size 432x288 with 1 Axes>"
      ]
     },
     "metadata": {},
     "output_type": "display_data"
    }
   ],
   "source": [
    "# X1\n",
    "pt_X1 = np.array([0.5, 0.3, 0.2])\n",
    "rv1 = BNRV('X1', pt_X1)\n",
    "\n",
    "# X2 | X0, X1\n",
    "pt_X2cX0X1 = np.array([\n",
    "    [\n",
    "        [0., 1.0],\n",
    "        [0.2, 0.8],\n",
    "        [0.1, 0.9]\n",
    "    ],\n",
    "    [\n",
    "        [0.5, 0.5],\n",
    "        [0.3, 0.7],\n",
    "        [0.9, 0.1]\n",
    "    ],\n",
    "\n",
    "])\n",
    "\n",
    "rv2c01 = BNRV('X2', pt_X2cX0X1, parent_names=['X0', 'X1'])\n",
    "\n",
    "bn2c01 = FDBN(rv0, rv1, rv2c01)\n",
    "bn2c01.draw_graph()"
   ]
  },
  {
   "cell_type": "code",
   "execution_count": 17,
   "metadata": {},
   "outputs": [
    {
     "data": {
      "text/html": [
       "<div>\n",
       "<style scoped>\n",
       "    .dataframe tbody tr th:only-of-type {\n",
       "        vertical-align: middle;\n",
       "    }\n",
       "\n",
       "    .dataframe tbody tr th {\n",
       "        vertical-align: top;\n",
       "    }\n",
       "\n",
       "    .dataframe thead th {\n",
       "        text-align: right;\n",
       "    }\n",
       "</style>\n",
       "<table border=\"1\" class=\"dataframe\">\n",
       "  <thead>\n",
       "    <tr style=\"text-align: right;\">\n",
       "      <th></th>\n",
       "      <th>X0</th>\n",
       "      <th>X1</th>\n",
       "      <th>X2</th>\n",
       "    </tr>\n",
       "  </thead>\n",
       "  <tbody>\n",
       "    <tr>\n",
       "      <th>0</th>\n",
       "      <td>0</td>\n",
       "      <td>0</td>\n",
       "      <td>1</td>\n",
       "    </tr>\n",
       "    <tr>\n",
       "      <th>1</th>\n",
       "      <td>0</td>\n",
       "      <td>1</td>\n",
       "      <td>1</td>\n",
       "    </tr>\n",
       "    <tr>\n",
       "      <th>2</th>\n",
       "      <td>0</td>\n",
       "      <td>2</td>\n",
       "      <td>0</td>\n",
       "    </tr>\n",
       "    <tr>\n",
       "      <th>3</th>\n",
       "      <td>0</td>\n",
       "      <td>1</td>\n",
       "      <td>0</td>\n",
       "    </tr>\n",
       "    <tr>\n",
       "      <th>4</th>\n",
       "      <td>0</td>\n",
       "      <td>0</td>\n",
       "      <td>1</td>\n",
       "    </tr>\n",
       "  </tbody>\n",
       "</table>\n",
       "</div>"
      ],
      "text/plain": [
       "   X0  X1  X2\n",
       "0   0   0   1\n",
       "1   0   1   1\n",
       "2   0   2   0\n",
       "3   0   1   0\n",
       "4   0   0   1"
      ]
     },
     "execution_count": 17,
     "metadata": {},
     "output_type": "execute_result"
    }
   ],
   "source": [
    "# Sample\n",
    "bn2c01.rvs(size=5)"
   ]
  },
  {
   "cell_type": "markdown",
   "metadata": {},
   "source": [
    "## Bayesian network with non-default (non-integer) outcome values"
   ]
  },
  {
   "cell_type": "code",
   "execution_count": 18,
   "metadata": {},
   "outputs": [
    {
     "data": {
      "image/png": "[encoded data removed]",
      "text/plain": [
       "<Figure size 432x288 with 1 Axes>"
      ]
     },
     "metadata": {},
     "output_type": "display_data"
    }
   ],
   "source": [
    "# With non-default valued outocomes\n",
    "rv0_nondef = BNRV('ab', pt_X0, values=['a', 'b'])\n",
    "rv1c0_nondef = BNRV('gender', pt_X1cX0, parent_names=['ab'], values=['female', 'male'])\n",
    "bn_nondef = FDBN(rv0_nondef, rv1c0_nondef)\n",
    "bn_nondef.draw_graph()"
   ]
  },
  {
   "cell_type": "code",
   "execution_count": 19,
   "metadata": {},
   "outputs": [
    {
     "data": {
      "text/html": [
       "<div>\n",
       "<style scoped>\n",
       "    .dataframe tbody tr th:only-of-type {\n",
       "        vertical-align: middle;\n",
       "    }\n",
       "\n",
       "    .dataframe tbody tr th {\n",
       "        vertical-align: top;\n",
       "    }\n",
       "\n",
       "    .dataframe thead th {\n",
       "        text-align: right;\n",
       "    }\n",
       "</style>\n",
       "<table border=\"1\" class=\"dataframe\">\n",
       "  <thead>\n",
       "    <tr style=\"text-align: right;\">\n",
       "      <th></th>\n",
       "      <th>ab</th>\n",
       "      <th>gender</th>\n",
       "    </tr>\n",
       "  </thead>\n",
       "  <tbody>\n",
       "    <tr>\n",
       "      <th>0</th>\n",
       "      <td>a</td>\n",
       "      <td>female</td>\n",
       "    </tr>\n",
       "    <tr>\n",
       "      <th>1</th>\n",
       "      <td>a</td>\n",
       "      <td>male</td>\n",
       "    </tr>\n",
       "    <tr>\n",
       "      <th>2</th>\n",
       "      <td>a</td>\n",
       "      <td>male</td>\n",
       "    </tr>\n",
       "    <tr>\n",
       "      <th>3</th>\n",
       "      <td>b</td>\n",
       "      <td>female</td>\n",
       "    </tr>\n",
       "    <tr>\n",
       "      <th>4</th>\n",
       "      <td>a</td>\n",
       "      <td>female</td>\n",
       "    </tr>\n",
       "    <tr>\n",
       "      <th>5</th>\n",
       "      <td>a</td>\n",
       "      <td>male</td>\n",
       "    </tr>\n",
       "    <tr>\n",
       "      <th>6</th>\n",
       "      <td>a</td>\n",
       "      <td>male</td>\n",
       "    </tr>\n",
       "    <tr>\n",
       "      <th>7</th>\n",
       "      <td>a</td>\n",
       "      <td>male</td>\n",
       "    </tr>\n",
       "    <tr>\n",
       "      <th>8</th>\n",
       "      <td>a</td>\n",
       "      <td>male</td>\n",
       "    </tr>\n",
       "    <tr>\n",
       "      <th>9</th>\n",
       "      <td>a</td>\n",
       "      <td>male</td>\n",
       "    </tr>\n",
       "  </tbody>\n",
       "</table>\n",
       "</div>"
      ],
      "text/plain": [
       "  ab  gender\n",
       "0  a  female\n",
       "1  a    male\n",
       "2  a    male\n",
       "3  b  female\n",
       "4  a  female\n",
       "5  a    male\n",
       "6  a    male\n",
       "7  a    male\n",
       "8  a    male\n",
       "9  a    male"
      ]
     },
     "execution_count": 19,
     "metadata": {},
     "output_type": "execute_result"
    }
   ],
   "source": [
    "bn_nondef.rvs(size=10)"
   ]
  }
 ],
 "metadata": {
  "kernelspec": {
   "display_name": "Python 3",
   "language": "python",
   "name": "python3"
  },
  "language_info": {
   "codemirror_mode": {
    "name": "ipython",
    "version": 3
   },
   "file_extension": ".py",
   "mimetype": "text/x-python",
   "name": "python",
   "nbconvert_exporter": "python",
   "pygments_lexer": "ipython3",
   "version": "3.7.3"
  }
 },
 "nbformat": 4,
 "nbformat_minor": 2
}
