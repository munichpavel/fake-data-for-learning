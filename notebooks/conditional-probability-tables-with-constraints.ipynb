{
 "cells": [
  {
   "cell_type": "markdown",
   "metadata": {},
   "source": [
    "# Generating conditional probability tables subject to constraints\n"
   ]
  },
  {
   "cell_type": "code",
   "execution_count": 1,
   "metadata": {},
   "outputs": [],
   "source": [
    "import os\n",
    "from pathlib import Path\n",
    "\n",
    "from itertools import product\n",
    "\n",
    "import numpy as np\n",
    "import pandas as pd\n",
    "import xarray as xr\n",
    "\n",
    "import polytope as pc\n",
    "\n",
    "from pypoman import compute_polytope_vertices, project_polytope\n",
    "\n",
    "from fake_data_for_learning import BayesianNodeRV, FakeDataBayesianNetwork\n",
    "from fake_data_for_learning.utils import RandomCpt, MapMultidimIndexToLinear, ProbabilityPolytope\n",
    "from fake_data_for_learning import utils as ut"
   ]
  },
  {
   "cell_type": "markdown",
   "metadata": {},
   "source": [
    "Suppose we want to generate data from a discrete Bayesian network, such as\n",
    "\n",
    "Product -> Days <- Rating, \n",
    "\n",
    "where e.g. Product is the (insurance) product name, Rating is rating strength (i.e. market price / technical price) for a submission, and Days is the number of days to generate a quote for the submission.\n",
    "\n",
    "The number of entries in probability and conditional probability tables to define this Bayesian network is\n",
    "\n",
    "$ | Product | + | Rating | + | Product | \\times | Rating | \\times | Days |$.\n",
    "\n",
    "For example, let us define Industry and Rating as follows"
   ]
  },
  {
   "cell_type": "code",
   "execution_count": 2,
   "metadata": {},
   "outputs": [],
   "source": [
    "product_values = ['financial', 'liability', 'property']\n",
    "product = BayesianNodeRV('product', np.array([0.2, 0.5, 0.3]), values=product_values)\n",
    "rating_values = range(2)\n",
    "rating = BayesianNodeRV('rating', np.array([0.3, 0.6]))"
   ]
  },
  {
   "cell_type": "markdown",
   "metadata": {},
   "source": [
    "Suppose that Days is also discrete, e.g."
   ]
  },
  {
   "cell_type": "code",
   "execution_count": 3,
   "metadata": {},
   "outputs": [],
   "source": [
    "days_values = range(5)"
   ]
  },
  {
   "cell_type": "markdown",
   "metadata": {},
   "source": [
    "Then if we choose the ordering of the conditional probability table axes as Product, Rating, Days, we can generate the entries of the conditional probability table for Days conditioned on Industry and Rating with `utils.RandomCpt`:"
   ]
  },
  {
   "cell_type": "code",
   "execution_count": 4,
   "metadata": {},
   "outputs": [
    {
     "data": {
      "text/plain": [
       "array([[[0.2001 , 0.11988, 0.23985, 0.22664, 0.21353],\n",
       "        [0.22428, 0.21437, 0.22648, 0.21487, 0.12001]],\n",
       "\n",
       "       [[0.30496, 0.13342, 0.17955, 0.25262, 0.12945],\n",
       "        [0.14661, 0.28723, 0.17369, 0.25179, 0.14068]],\n",
       "\n",
       "       [[0.29282, 0.11601, 0.22178, 0.1165 , 0.25289],\n",
       "        [0.24524, 0.2051 , 0.10672, 0.19627, 0.24667]]])"
      ]
     },
     "execution_count": 4,
     "metadata": {},
     "output_type": "execute_result"
    }
   ],
   "source": [
    "random_cpt = RandomCpt(len(product_values), len(rating_values), len(days_values))\n",
    "random_cpt()"
   ]
  },
  {
   "cell_type": "markdown",
   "metadata": {},
   "source": [
    "So the total number of probability table entries to specify is, as in the formula above,"
   ]
  },
  {
   "cell_type": "code",
   "execution_count": 5,
   "metadata": {},
   "outputs": [
    {
     "data": {
      "text/plain": [
       "'Number of probability table entries: 35'"
      ]
     },
     "execution_count": 5,
     "metadata": {},
     "output_type": "execute_result"
    }
   ],
   "source": [
    "f'Number of probability table entries: {len(product_values) + len(rating_values) +  (len(product_values) * len(rating_values) * len(days_values))}'"
   ]
  },
  {
   "cell_type": "markdown",
   "metadata": {},
   "source": [
    "It would be nice to specify certain properties of the matrix without having to change entries individually. For example, we may want to insist that\n",
    "\n",
    "\\begin{equation*}\n",
    "E(D | P = property) = 3.5 \\\\\n",
    "E(D | P = financial) = 1.0 \\\\\n",
    "E(D | P= liability) = 2.0\n",
    "\\end{equation*}\n",
    "\n",
    "Denote the entries of the conditional probability table as \n",
    "\n",
    "$$(\\rho_{p, r | d})$$\n",
    "\n",
    "The the above constraints become\n",
    "\n",
    "\\begin{equation*}\n",
    "\\frac{1}{|R|} \\sum_{r, d} d \\, \\rho_{\\mathrm{property},\\, r\\, | d} = 3.5 \\\\\n",
    "\\frac{1}{|R|} \\sum_{r, d} d \\, \\rho_{\\mathrm{financial},\\, r\\, | d} = 1.0\\\\\n",
    "\\frac{1}{|R|} \\sum_{r, d} d \\, \\rho_{\\mathrm{liability},\\, r\\, | d} = 2.0.\n",
    "\\end{equation*}\n",
    "\n",
    "As $(\\rho)$ is a conditional probability table, we also have the constraints \n",
    "\n",
    "\\begin{equation*}\n",
    "0 \\leq \\rho_{p,\\,r\\,|d} \\leq 1 \\textrm{ for all }(p,\\,r,\\,d),\\\\\n",
    "\\sum_{d} \\rho_{p,\\,r,\\,| d} = 1 \\textrm{ for each pair } (p, \\, r)\n",
    "\\end{equation*}\n",
    "\n",
    "Together, these constraints define convex polytope contained in (probability) simplex $\\Delta_{R-1} \\subseteq \\mathbb{R}^{R}$, where $R = |Product | \\times | Rating | \\times | Days|$ (see e.g. Chapter 1 of *Lectures on Algebraic Statistics*, Drton, Sturmfels, Sullivant). This polytope is defined as an intersection of half-spaces, i.e. using the so-called *H-representation* of the polytope, see *Lectures on Polytopes* by Ziegler, Chapters 0 and 1.\n",
    "\n",
    "To generate a random (conditional) probability table to these constraints, the vertex-, or *V-representation* of the probability polytope $P$ is much more useful, because given the a vertex matrix $V$, where each column is a vertex of $P$ in $\\mathbb{R}^R$, and all points in $P$ can be obtained as\n",
    "\n",
    "$$\n",
    "\\begin{equation*}\n",
    "x = V \\cdot t\n",
    "\\end{equation*}\n",
    "$$\n",
    "\n",
    "where $t \\in \\mathbb{R}^N$, with $N$ being the number of vertices for $P$, and $t$ satisfying $0 \\leq t_i \\leq 1$, $\\sum t_i = 1$.\n",
    "\n",
    "Once we have determined the V-representation $V$, then the problem of generating conditional probability tables subject to our given expectation value constraints reduces to the much simpler problem of generating points on the non-negative quadrant of the unit (hyper) cube in $R^N$.\n",
    "\n",
    "Before we get to our goal of generating these probability tables for our hit ratio problem, let's look at elementary examples."
   ]
  },
  {
   "cell_type": "markdown",
   "metadata": {},
   "source": [
    "## (Conditional) Probability Polytopes\n",
    "\n",
    "The simplest example of a probability polytope is that of a Bernoulli random variable."
   ]
  },
  {
   "cell_type": "code",
   "execution_count": 6,
   "metadata": {},
   "outputs": [
    {
     "data": {
      "text/plain": [
       "[array([1., 0.]), array([0., 1.])]"
      ]
     },
     "execution_count": 6,
     "metadata": {},
     "output_type": "execute_result"
    }
   ],
   "source": [
    "bernoulli = ut.ProbabilityPolytope(('outcome',), dict(outcome=range(2)))\n",
    "A, b = bernoulli.get_probability_half_planes()\n",
    "verts = compute_polytope_vertices(A, b)\n",
    "verts"
   ]
  },
  {
   "cell_type": "markdown",
   "metadata": {},
   "source": [
    "In order to use the V-description to we "
   ]
  },
  {
   "cell_type": "code",
   "execution_count": 7,
   "metadata": {},
   "outputs": [
    {
     "data": {
      "text/plain": [
       "array([0.31643, 0.68357])"
      ]
     },
     "execution_count": 7,
     "metadata": {},
     "output_type": "execute_result"
    }
   ],
   "source": [
    "V = np.vstack(verts)\n",
    "t = np.random.uniform(size=V.shape[0])\n",
    "t = t / t.sum()\n",
    "V, t\n",
    "np.matmul(V, np.transpose(t))"
   ]
  },
  {
   "cell_type": "code",
   "execution_count": 8,
   "metadata": {},
   "outputs": [
    {
     "data": {
      "text/plain": [
       "[array([1., 0., 0.]), array([0., 1., 0.]), array([0., 0., 1.])]"
      ]
     },
     "execution_count": 8,
     "metadata": {},
     "output_type": "execute_result"
    }
   ],
   "source": [
    "tertiary = ut.ProbabilityPolytope(('outcome',), dict(outcome=range(3)))\n",
    "A, b = tertiary.get_probability_half_planes()\n",
    "compute_polytope_vertices(A, b)"
   ]
  },
  {
   "cell_type": "code",
   "execution_count": 9,
   "metadata": {},
   "outputs": [
    {
     "data": {
      "text/plain": [
       "[array([1., 0., 1., 0.]),\n",
       " array([1., 0., 0., 1.]),\n",
       " array([0., 1., 0., 1.]),\n",
       " array([0., 1., 1., 0.])]"
      ]
     },
     "execution_count": 9,
     "metadata": {},
     "output_type": "execute_result"
    }
   ],
   "source": [
    "conditional_bernoullis = ut.ProbabilityPolytope(\n",
    "    ('input', 'output'), dict(input=range(2), output=range(2))\n",
    ")\n",
    "A, b = conditional_bernoullis.get_probability_half_planes()\n",
    "verts = compute_polytope_vertices(A, b)\n",
    "verts"
   ]
  },
  {
   "cell_type": "markdown",
   "metadata": {},
   "source": [
    "The benefit of having the vertex-representation (V-representation) of the probability polytope is that generating random (conditional) probability tables is straightforward."
   ]
  },
  {
   "cell_type": "code",
   "execution_count": 10,
   "metadata": {},
   "outputs": [
    {
     "name": "stdout",
     "output_type": "stream",
     "text": [
      "[[1. 0. 1. 0.]\n",
      " [1. 0. 0. 1.]\n",
      " [0. 1. 0. 1.]\n",
      " [0. 1. 1. 0.]] \n",
      "\n",
      " [[1. 1. 0. 0.]\n",
      " [0. 0. 1. 1.]\n",
      " [1. 0. 0. 1.]\n",
      " [0. 1. 1. 0.]] \n",
      "\n",
      " [0.24446 0.22964 0.26488 0.26102]\n"
     ]
    },
    {
     "data": {
      "text/plain": [
       "array([0.4741 , 0.5259 , 0.50547, 0.49453])"
      ]
     },
     "execution_count": 10,
     "metadata": {},
     "output_type": "execute_result"
    }
   ],
   "source": [
    "V = np.vstack(verts)\n",
    "t = np.random.uniform(size=V.shape[0])\n",
    "t = t / t.sum()\n",
    "print(V, '\\n\\n', np.transpose(V), '\\n\\n', t)\n",
    "np.matmul(np.transpose(V),np.transpose(t))"
   ]
  },
  {
   "cell_type": "markdown",
   "metadata": {},
   "source": [
    "## Adding contraints on conditional expectation values"
   ]
  },
  {
   "cell_type": "code",
   "execution_count": 11,
   "metadata": {},
   "outputs": [],
   "source": [
    "conditional_bernoullis.set_expectation_constraints(\n",
    "    [ut.ExpectationConstraint(equation=dict(input=1), moment=1, value=0.5)]\n",
    ")"
   ]
  },
  {
   "cell_type": "code",
   "execution_count": 12,
   "metadata": {},
   "outputs": [
    {
     "data": {
      "text/plain": [
       "[2, 3]"
      ]
     },
     "execution_count": 12,
     "metadata": {},
     "output_type": "execute_result"
    }
   ],
   "source": [
    "conditional_bernoullis.get_expect_equations_col_indices(conditional_bernoullis.expect_constraints[0].equation)"
   ]
  },
  {
   "cell_type": "code",
   "execution_count": 13,
   "metadata": {},
   "outputs": [],
   "source": [
    "A, b = conditional_bernoullis.get_all_half_planes()"
   ]
  },
  {
   "cell_type": "code",
   "execution_count": 14,
   "metadata": {},
   "outputs": [
    {
     "data": {
      "text/plain": [
       "[array([1. , 0. , 0.5, 0.5]), array([0. , 1. , 0.5, 0.5])]"
      ]
     },
     "execution_count": 14,
     "metadata": {},
     "output_type": "execute_result"
    }
   ],
   "source": [
    "compute_polytope_vertices(A, b)"
   ]
  },
  {
   "cell_type": "code",
   "execution_count": 15,
   "metadata": {},
   "outputs": [],
   "source": [
    "two_input_constrained_polytope = ut.ProbabilityPolytope(\n",
    "    ('input', 'more_input', 'output'),\n",
    "    dict(input=['hi', 'low'], more_input=range(2), output=range(2))\n",
    ")\n",
    "two_input_constrained_polytope.set_expectation_constraints(\n",
    "    [ut.ExpectationConstraint(equation=dict(more_input=0), moment=1, value=0.25)]\n",
    ")"
   ]
  },
  {
   "cell_type": "code",
   "execution_count": 16,
   "metadata": {},
   "outputs": [
    {
     "data": {
      "text/plain": [
       "[array([0.5, 0.5, 0. , 1. , 1. , 0. , 1. , 0. ]),\n",
       " array([0.5, 0.5, 0. , 1. , 1. , 0. , 0. , 1. ]),\n",
       " array([0.5, 0.5, 1. , 0. , 1. , 0. , 1. , 0. ]),\n",
       " array([0.5, 0.5, 1. , 0. , 1. , 0. , 0. , 1. ]),\n",
       " array([1. , 0. , 1. , 0. , 0.5, 0.5, 1. , 0. ]),\n",
       " array([1. , 0. , 1. , 0. , 0.5, 0.5, 0. , 1. ]),\n",
       " array([1. , 0. , 0. , 1. , 0.5, 0.5, 0. , 1. ]),\n",
       " array([1. , 0. , 0. , 1. , 0.5, 0.5, 1. , 0. ])]"
      ]
     },
     "execution_count": 16,
     "metadata": {},
     "output_type": "execute_result"
    }
   ],
   "source": [
    "A, b = two_input_constrained_polytope.get_all_half_planes()\n",
    "compute_polytope_vertices(A, b)"
   ]
  },
  {
   "cell_type": "markdown",
   "metadata": {},
   "source": [
    "## Hit rate polytope again"
   ]
  },
  {
   "cell_type": "raw",
   "metadata": {},
   "source": [
    "hit_polytope = ProbabilityPolytope(\n",
    "    ('product', 'rating', 'days'),\n",
    "    coords = {\n",
    "        'product': product_values, \n",
    "        'rating': rating_values, \n",
    "        'days': days_values\n",
    "    }\n",
    ")\n",
    "A, b = hit_polytope.get_probability_half_planes()"
   ]
  },
  {
   "cell_type": "code",
   "execution_count": 17,
   "metadata": {},
   "outputs": [],
   "source": [
    "product_values = ['financial', 'liability', 'property']\n",
    "rating_values = range(2)\n",
    "days_values = range(4)\n",
    "\n",
    "#industry = BayesianNodeRV('product', np.array([0.2, 0.5, 0.3]), values=product_values)\n",
    "#rating = BayesianNodeRV('rating', np.array([0.4, 0.4, 0.2]))\n",
    "\n",
    "\n",
    "\n",
    "hit_polytope = ProbabilityPolytope(\n",
    "    ('product', 'rating', 'days'),\n",
    "    coords = {\n",
    "        'product': product_values, \n",
    "        'rating': rating_values, \n",
    "        'days': days_values\n",
    "    }\n",
    ")\n",
    "hit_polytope.set_expectation_constraints(\n",
    "    [\n",
    "        ut.ExpectationConstraint(equation=dict(product='financial'), moment=1, value=0.2),\n",
    "        ut.ExpectationConstraint(equation=dict(product='liability'), moment=1, value=0.9),\n",
    "        ut.ExpectationConstraint(equation=dict(product='property'), moment=1, value=0.5),\n",
    "    ]\n",
    ")\n",
    "A, b = hit_polytope.get_all_half_planes()"
   ]
  },
  {
   "cell_type": "code",
   "execution_count": 18,
   "metadata": {},
   "outputs": [
    {
     "name": "stdout",
     "output_type": "stream",
     "text": [
      "504\n",
      "CPU times: user 1.06 s, sys: 19.9 ms, total: 1.08 s\n",
      "Wall time: 1.11 s\n"
     ]
    }
   ],
   "source": [
    "%%time\n",
    "verts = compute_polytope_vertices(A, b)\n",
    "print(len(verts))"
   ]
  },
  {
   "cell_type": "code",
   "execution_count": 19,
   "metadata": {},
   "outputs": [
    {
     "data": {
      "text/plain": [
       "array([0.87792, 0.0659 , 0.03517, 0.021  , 0.87594, 0.06809, 0.03525,\n",
       "       0.02072, 0.4318 , 0.33617, 0.14911, 0.08293, 0.4174 , 0.33667,\n",
       "       0.15762, 0.08831, 0.69352, 0.16335, 0.08678, 0.05635, 0.7013 ,\n",
       "       0.15944, 0.08319, 0.05607])"
      ]
     },
     "execution_count": 19,
     "metadata": {},
     "output_type": "execute_result"
    }
   ],
   "source": [
    "V = np.vstack(verts)\n",
    "t = np.random.uniform(size=V.shape[0])\n",
    "t = t / t.sum()\n",
    "#print(V, '\\n\\n', np.transpose(V), '\\n\\n', t)\n",
    "np.matmul(np.transpose(V),np.transpose(t))"
   ]
  }
 ],
 "metadata": {
  "kernelspec": {
   "display_name": "Python 3",
   "language": "python",
   "name": "python3"
  },
  "language_info": {
   "codemirror_mode": {
    "name": "ipython",
    "version": 3
   },
   "file_extension": ".py",
   "mimetype": "text/x-python",
   "name": "python",
   "nbconvert_exporter": "python",
   "pygments_lexer": "ipython3",
   "version": "3.7.3"
  }
 },
 "nbformat": 4,
 "nbformat_minor": 2
}
