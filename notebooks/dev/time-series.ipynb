{
 "cells": [
  {
   "cell_type": "code",
   "execution_count": null,
   "metadata": {},
   "outputs": [],
   "source": [
    "import os\n",
    "\n",
    "from datetime import date\n",
    "import numpy as np\n",
    "import pandas as pd\n",
    "\n",
    "import math\n",
    "\n",
    "from fake_data_for_learning import BayesianNodeRV, FakeDataBayesianNetwork, SampleValue"
   ]
  },
  {
   "cell_type": "code",
   "execution_count": null,
   "metadata": {},
   "outputs": [],
   "source": [
    "#To parametrize probability tables\n",
    "def sigmoid(a):\n",
    "    return 1 / (1 + math.exp(-a))\n",
    "def inv_sigmoid(p):\n",
    "    return math.log(p) - math.log(1-p)\n",
    "\n",
    "def gender_param(a=0.):\n",
    "    '''Bernoulli random variable for gender parametrized by -inf < a < inf'''\n",
    "    return BayesianNodeRV(\n",
    "        'gender', \n",
    "        np.array([1-sigmoid(a), sigmoid(a)]), \n",
    "        values=('female', 'male')\n",
    "    )"
   ]
  },
  {
   "cell_type": "code",
   "execution_count": null,
   "metadata": {},
   "outputs": [],
   "source": [
    "datadir = os.environ['DATA_DIR']"
   ]
  },
  {
   "cell_type": "markdown",
   "metadata": {},
   "source": [
    "## Define Bayesian network"
   ]
  },
  {
   "cell_type": "code",
   "execution_count": null,
   "metadata": {},
   "outputs": [],
   "source": [
    "\n",
    "\n",
    "age = BayesianNodeRV('age', np.array([0.2, 0.5, 0.3]), values=('20', '40', '60'))\n",
    "\n",
    "profession = BayesianNodeRV(\n",
    "    'profession', \n",
    "    np.array([\n",
    "        [0.3, 0.4, 0.2, 0.1],\n",
    "        [0.05, 0.15, 0.3, 0.5],\n",
    "        [0.15, 0.05, 0.2, 0.6]\n",
    "    ]),\n",
    "    values=('unemployed', 'student', 'self-employed', 'salaried'),\n",
    "    parent_names=['age'])\n",
    "\n",
    "patience = BayesianNodeRV(\n",
    "    'patience',\n",
    "    np.array([\n",
    "        [\n",
    "            [0.6, 0.4], # female, 20\n",
    "            [0.7, 0.3], # female, 40\n",
    "            [0.3, 0.7]  # female, 60\n",
    "        ],\n",
    "        [\n",
    "            [0.3, 0.7], # male, 20\n",
    "            [0.4, 0.6], # male, 40\n",
    "            [0.2, 0.8]  # male, 60\n",
    "        ]\n",
    "    ]),\n",
    "    parent_names=['gender', 'age']\n",
    ")\n",
    "\n",
    "thriftiness = BayesianNodeRV(\n",
    "    'thriftiness',\n",
    "    np.array([\n",
    "        [\n",
    "            [0.3, 0.7], #20, unemployed\n",
    "            [0.2, 0.8], #20, student\n",
    "            [0.1, 0.9], #20, self-employed\n",
    "            [0.6, 0.4], #20, salaried\n",
    "        ],\n",
    "        [\n",
    "            [0.4, 0.6], #40, unemployed\n",
    "            [0.7, 0.3], #40, student\n",
    "            [0.3, 0.7], # 40, self-employed\n",
    "            [0.2, 0.8], # 40 salaried\n",
    "        ],\n",
    "        [\n",
    "            [0.1, 0.9], #60, unemployed\n",
    "            [0.2, 0.8], #60, student\n",
    "            [0.3, 0.7], #60, self-employed\n",
    "            [0.25, 0.75], #60, salaried\n",
    "        ],\n",
    "    ]),\n",
    "    parent_names=['age', 'profession']\n",
    ")\n",
    "\n",
    "churn = BayesianNodeRV(\n",
    "    'churn',\n",
    "    np.array([\n",
    "        [\n",
    "            [0.5, 0.5], # impatient, not thrifty\n",
    "            [0.9, 0.1], # patient, not thrifty\n",
    "        ],\n",
    "        [\n",
    "            [0.05, 0.95], # impatient, thrifty\n",
    "            [0.4, 0.6] # patient, thrifty\n",
    "        ]\n",
    "    ]),\n",
    "    parent_names = ['patience', 'thriftiness']\n",
    ")"
   ]
  },
  {
   "cell_type": "markdown",
   "metadata": {},
   "source": [
    "## Simulate"
   ]
  },
  {
   "cell_type": "code",
   "execution_count": null,
   "metadata": {},
   "outputs": [],
   "source": [
    "start_year = 2008\n",
    "end_year = 2012\n",
    "samples_per_year = np.random.choice(\n",
    "    range(100, 150), size=end_year-start_year\n",
    ")\n",
    "\n",
    "p0 = 0.4\n",
    "gender = BayesianNodeRV(\n",
    "    'gender', \n",
    "    np.array([1-p0, p0]), \n",
    "    values=('female', 'male')\n",
    ")\n",
    "\n",
    "# Initialize\n",
    "del_p = 0.2\n",
    "samples = []\n",
    "for n_samples, year in zip(\n",
    "    samples_per_year, range(start_year, end_year)\n",
    "):\n",
    "    X = FakeDataBayesianNetwork(gender, age, profession, patience, thriftiness, churn)\n",
    "    res = X.rvs(n_samples)\n",
    "    res['year'] = year\n",
    "    samples.append(res)\n",
    "    # Parametrize for next year\n",
    "    gender = gender_param(p0 + del_p)\n",
    "    \n",
    "sample_df = pd.concat(samples, axis=0).reset_index(drop=True)\n",
    "sample_df.to_csv('churn.csv', index=False)\n",
    "sample_df.groupby(['year', 'gender']).size()"
   ]
  }
 ],
 "metadata": {
  "kernelspec": {
   "display_name": "Python 3",
   "language": "python",
   "name": "python3"
  },
  "language_info": {
   "codemirror_mode": {
    "name": "ipython",
    "version": 3
   },
   "file_extension": ".py",
   "mimetype": "text/x-python",
   "name": "python",
   "nbconvert_exporter": "python",
   "pygments_lexer": "ipython3",
   "version": "3.7.3"
  }
 },
 "nbformat": 4,
 "nbformat_minor": 2
}
