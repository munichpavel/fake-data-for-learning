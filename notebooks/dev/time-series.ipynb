{
 "cells": [
  {
   "cell_type": "code",
   "execution_count": null,
   "metadata": {},
   "outputs": [],
   "source": [
    "import os\n",
    "import pickle\n",
    "from pathlib import Path\n",
    "from datetime import date\n",
    "\n",
    "import numpy as np\n",
    "import pandas as pd\n",
    "\n",
    "\n",
    "from fake_data_for_learning import BayesianNodeRV, FakeDataBayesianNetwork, SampleValue\n",
    "from fake_data_for_learning.utils import generate_random_cpt, make_cpt"
   ]
  },
  {
   "cell_type": "code",
   "execution_count": null,
   "metadata": {},
   "outputs": [],
   "source": [
    "datadir = Path(os.environ['DATA_DIR'])"
   ]
  },
  {
   "cell_type": "markdown",
   "metadata": {},
   "source": [
    "## Bayesian network"
   ]
  },
  {
   "cell_type": "code",
   "execution_count": null,
   "metadata": {},
   "outputs": [],
   "source": [
    "age = BayesianNodeRV('age', np.array([0.2, 0.5, 0.3]), values=('20-34', '35-49', '50-64'))\n",
    "\n",
    "profession = BayesianNodeRV(\n",
    "    'profession', \n",
    "    np.array([\n",
    "        [0.1, 0.2, 0.4, 0.3],\n",
    "        [0.5, 0.3, 0.15, 0.05],\n",
    "        [0.6, 0.2,  0.05, 0.15]\n",
    "    ]),\n",
    "    values=('salaried', 'self-employed', 'student', 'unemployed'),\n",
    "    parent_names=['age'])\n",
    "\n",
    "gender = BayesianNodeRV(\n",
    "    'gender', \n",
    "    np.array([0.55, 0.45]), \n",
    "    values=('female', 'male')\n",
    ")"
   ]
  },
  {
   "cell_type": "code",
   "execution_count": null,
   "metadata": {},
   "outputs": [],
   "source": [
    "churn_pre_cpt = np.array([\n",
    "    [\n",
    "        [[-1.42045768, 0.57954232], # female, 20-34, unemployed\n",
    "         [-0.40814291, 0.59185709],  # female, 20-34, student\n",
    "         [-0.56219023, 0.43780977],  # female, 20-34, self-employed\n",
    "         [0.48849254, -1.1150746]], # female, 20, salaried\n",
    "\n",
    "        [[-0.46861885, 2.53138115], # female, 35-49, unemployed\n",
    "         [-0.43218211, 0.56781789], # ...\n",
    "         [0.60132273, -0.39867727],\n",
    "         [0.39588113, -0.60411887]],\n",
    "\n",
    "        [[-0.48908418, 2.51091582],\n",
    "         [0.46685323, -0.53314677],\n",
    "         [1.50957938, -0.49042062],\n",
    "         [0.40211519, -0.59788481]]],\n",
    "\n",
    "\n",
    "    [\n",
    "        [[-0.54623047, 0.45376953],# male, 20-34, unemployed\n",
    "         [-0.52350668, 0.47649332],\n",
    "         [-0.44970756, 0.55029244],\n",
    "         [-0.51186244, 0.48813756]],\n",
    "\n",
    "        [[-0.46305065, 0.53694935],\n",
    "         [-0.33640207, 0.66359793],\n",
    "         [-0.51803343, 0.48196657],\n",
    "         [0.55415768, -0.44584232]],\n",
    "\n",
    "        [[-1.55106954, 0.44893046],\n",
    "         [0.50675317, -0.49324683],\n",
    "         [0.59636579, -0.40363421],\n",
    "         [0.52955825, -1.247044175]]]])\n",
    "churn_cpt = make_cpt(churn_pre_cpt)"
   ]
  },
  {
   "cell_type": "code",
   "execution_count": null,
   "metadata": {},
   "outputs": [],
   "source": [
    "churn = BayesianNodeRV(\n",
    "    'churn',\n",
    "    churn_cpt,\n",
    "    parent_names = ['gender', 'age', 'profession']\n",
    ")\n",
    "X = FakeDataBayesianNetwork(gender, age, profession, churn)"
   ]
  },
  {
   "cell_type": "code",
   "execution_count": null,
   "metadata": {},
   "outputs": [],
   "source": [
    "start_year = 2008\n",
    "end_year = 2018\n",
    "samples_per_year = np.random.choice(\n",
    "    range(100, 150), size=end_year-start_year\n",
    ")\n",
    "\n",
    "# Initialize\n",
    "samples = []\n",
    "for n_samples, year in zip(\n",
    "    samples_per_year, range(start_year, end_year)\n",
    "):\n",
    "    res = X.rvs(n_samples)\n",
    "    res['year'] = year\n",
    "    samples.append(res)\n",
    "    \n",
    "sample_df = pd.concat(samples, axis=0).reset_index(drop=True)\n",
    "sample_df.to_csv(datadir.joinpath('churn_simple.csv'), index=False)\n",
    "# Look at gender breakdown over years\n",
    "sample_df.groupby(['year', 'gender']).size()"
   ]
  },
  {
   "cell_type": "markdown",
   "metadata": {},
   "source": [
    "## Bayesian network with hidden nodes"
   ]
  },
  {
   "cell_type": "code",
   "execution_count": null,
   "metadata": {},
   "outputs": [],
   "source": [
    "# Age, profession and gender as before\n",
    "# Hidden nodes patience and thriftiness\n",
    "patience = BayesianNodeRV(\n",
    "    'patience',\n",
    "    np.array([\n",
    "        [\n",
    "            [0.6, 0.4], # female, 20-34\n",
    "            [0.7, 0.3], # female, 35-49\n",
    "            [0.3, 0.7]  # female, 50-64\n",
    "        ],\n",
    "        [\n",
    "            [0.3, 0.7], # male, 20-34\n",
    "            [0.4, 0.6], # male, 35-49\n",
    "            [0.2, 0.8]  # male, 50-64\n",
    "        ]\n",
    "    ]),\n",
    "    parent_names=['gender', 'age']\n",
    ")\n",
    "\n",
    "thriftiness = BayesianNodeRV(\n",
    "    'thriftiness',\n",
    "    np.array([\n",
    "        [\n",
    "            [0.3, 0.7], #20-34, unemployed\n",
    "            [0.2, 0.8], #20-34, student\n",
    "            [0.1, 0.9], #20-34, self-employed\n",
    "            [0.6, 0.4], #20-34, salaried\n",
    "        ],\n",
    "        [\n",
    "            [0.4, 0.6], #35-49, unemployed\n",
    "            [0.7, 0.3], #35-49, student\n",
    "            [0.3, 0.7], # 35-49, self-employed\n",
    "            [0.2, 0.8], # 35-49 salaried\n",
    "        ],\n",
    "        [\n",
    "            [0.1, 0.9], #50-64, unemployed\n",
    "            [0.2, 0.8], #50-64, student\n",
    "            [0.3, 0.7], #50-64, self-employed\n",
    "            [0.25, 0.75], #50-64, salaried\n",
    "        ],\n",
    "    ]),\n",
    "    parent_names=['age', 'profession']\n",
    ")"
   ]
  },
  {
   "cell_type": "markdown",
   "metadata": {},
   "source": [
    "## Action\n",
    "\n",
    "Depending on whether the organization records agent actions or not, the action taken to manage churn (e.g. phone call, email or else) may be hidden or not"
   ]
  },
  {
   "cell_type": "code",
   "execution_count": null,
   "metadata": {},
   "outputs": [],
   "source": [
    "# 20% of customers are contacted\n",
    "action = BayesianNodeRV('action', np.array([0.8, 0.2]))"
   ]
  },
  {
   "cell_type": "code",
   "execution_count": null,
   "metadata": {},
   "outputs": [],
   "source": [
    "churn = BayesianNodeRV(\n",
    "    'churn',\n",
    "    np.array([\n",
    "        [\n",
    "            [\n",
    "                [0.5, 0.5], # no-action, impatient, not thrifty\n",
    "                [0.05, 0.95], # no-action, impatient, thrifty\n",
    "            ],\n",
    "            [\n",
    "                [0.95, 0.05], # no-action, patient, not thrifty\n",
    "                [0.7, 0.3], # no-action, patient, thrifty\n",
    "            ],\n",
    "        ],\n",
    "        [\n",
    "            [\n",
    "                [0.2, 0.8], # action, impatient, not thrifty\n",
    "                [0.01, 0.99] # action, impatient, thrifty\n",
    "            ],\n",
    "             [\n",
    "                [0.95, 0.05], # action, patient, not thrifty\n",
    "                [0.9, 0.1] # action, patient, thrifty\n",
    "            ],\n",
    "        ]\n",
    "    ]),\n",
    "    parent_names = ['action', 'patience', 'thriftiness']\n",
    ")"
   ]
  },
  {
   "cell_type": "markdown",
   "metadata": {},
   "source": [
    "## Simulate"
   ]
  },
  {
   "cell_type": "code",
   "execution_count": null,
   "metadata": {},
   "outputs": [],
   "source": [
    "X = FakeDataBayesianNetwork(gender, age, profession, action, patience, thriftiness, churn)\n",
    "\n",
    "start_year = 2008\n",
    "end_year = 2018\n",
    "samples_per_year = np.random.choice(\n",
    "    range(100, 150), size=end_year-start_year\n",
    ")\n",
    "\n",
    "# Initialize\n",
    "samples = []\n",
    "for n_samples, year in zip(\n",
    "    samples_per_year, range(start_year, end_year)\n",
    "):\n",
    "    res = X.rvs(n_samples)\n",
    "    res['year'] = year\n",
    "    samples.append(res)\n",
    "    \n",
    "sample_df = pd.concat(samples, axis=0).reset_index(drop=True)\n",
    "sample_df.to_csv(datadir.joinpath('churn.csv'), index=False)\n",
    "# Look at gender breakdown over years\n",
    "sample_df.groupby(['year', 'gender']).size()"
   ]
  },
  {
   "cell_type": "code",
   "execution_count": null,
   "metadata": {},
   "outputs": [],
   "source": [
    "# Save bayesian network\n",
    "with open(datadir / 'churn_bn.pickle', 'wb') as f:\n",
    "    pickle.dump(X, f)"
   ]
  }
 ],
 "metadata": {
  "kernelspec": {
   "display_name": "Python 3",
   "language": "python",
   "name": "python3"
  },
  "language_info": {
   "codemirror_mode": {
    "name": "ipython",
    "version": 3
   },
   "file_extension": ".py",
   "mimetype": "text/x-python",
   "name": "python",
   "nbconvert_exporter": "python",
   "pygments_lexer": "ipython3",
   "version": "3.7.3"
  }
 },
 "nbformat": 4,
 "nbformat_minor": 2
}
